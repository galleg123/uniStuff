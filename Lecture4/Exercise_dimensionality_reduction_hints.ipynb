{
 "cells": [
  {
   "cell_type": "code",
   "execution_count": 1,
   "metadata": {},
   "outputs": [],
   "source": [
    "import numpy as np\n",
    "from scipy.stats import multivariate_normal as norm\n",
    "import matplotlib.pyplot as plt\n",
    "from sklearn.decomposition import PCA\n",
    "from sklearn.discriminant_analysis import LinearDiscriminantAnalysis as LDA"
   ]
  },
  {
   "cell_type": "markdown",
   "metadata": {},
   "source": [
    "# Loading the training and test data"
   ]
  },
  {
   "cell_type": "markdown",
   "metadata": {},
   "source": [
    "## Train data"
   ]
  },
  {
   "cell_type": "code",
   "execution_count": 2,
   "metadata": {},
   "outputs": [],
   "source": [
    "train5 = np.loadtxt(\"mnist_all/train5.txt\")/255 # /255 for normalization\n",
    "train6 = np.loadtxt(\"mnist_all/train6.txt\")/255\n",
    "train8 = np.loadtxt(\"mnist_all/train8.txt\")/255"
   ]
  },
  {
   "cell_type": "code",
   "execution_count": 3,
   "metadata": {},
   "outputs": [],
   "source": [
    "# Define targets \n",
    "train5_target = 5*np.ones(len(train5))\n",
    "train6_target = 6*np.ones(len(train6))\n",
    "train8_target = 8*np.ones(len(train8))\n"
   ]
  },
  {
   "cell_type": "code",
   "execution_count": 4,
   "metadata": {},
   "outputs": [],
   "source": [
    "# Combine data\n",
    "train_data = np.concatenate([train5, train6, train8])\n",
    "train_targets = np.concatenate([train5_target, train6_target, train8_target])"
   ]
  },
  {
   "cell_type": "markdown",
   "metadata": {},
   "source": [
    "## Test data"
   ]
  },
  {
   "cell_type": "code",
   "execution_count": 5,
   "metadata": {},
   "outputs": [],
   "source": [
    "test5 = np.loadtxt(\"mnist_all/test5.txt\")/255\n",
    "test6 = np.loadtxt(\"mnist_all/test6.txt\")/255\n",
    "test8 = np.loadtxt(\"mnist_all/test8.txt\")/255\n",
    "\n",
    "# Define targets \n",
    "test5_target = 5*np.ones(len(test5))\n",
    "test6_target = 6*np.ones(len(test6))\n",
    "test8_target = 8*np.ones(len(test8))\n",
    "\n",
    "# Combine\n",
    "test_data = np.concatenate([test5, test6, test8])\n",
    "test_targets = np.concatenate([test5_target, test6_target, test8_target])\n",
    "\n",
    "# Class names\n",
    "classes = np.array([5,6,8])"
   ]
  },
  {
   "cell_type": "markdown",
   "metadata": {},
   "source": [
    "# Part 1: Reduce dimension to 2\n",
    "Here, we wish to reduce the data dimensionality from 784 to 2 using either PCA or LDA.\n",
    "For this you can use scikit-learn."
   ]
  },
  {
   "cell_type": "markdown",
   "metadata": {},
   "source": [
    "## PCA"
   ]
  },
  {
   "cell_type": "markdown",
   "metadata": {},
   "source": [
    "The PCA class in scikit-learn fits a covariance matrix and compute eigenvectors for you. \n",
    "PCA doesn't assume any knowledge about the classes, so you have to use the concatenated training set."
   ]
  },
  {
   "cell_type": "code",
   "execution_count": 6,
   "metadata": {},
   "outputs": [
    {
     "data": {
      "text/html": [
       "<style>#sk-container-id-1 {color: black;}#sk-container-id-1 pre{padding: 0;}#sk-container-id-1 div.sk-toggleable {background-color: white;}#sk-container-id-1 label.sk-toggleable__label {cursor: pointer;display: block;width: 100%;margin-bottom: 0;padding: 0.3em;box-sizing: border-box;text-align: center;}#sk-container-id-1 label.sk-toggleable__label-arrow:before {content: \"▸\";float: left;margin-right: 0.25em;color: #696969;}#sk-container-id-1 label.sk-toggleable__label-arrow:hover:before {color: black;}#sk-container-id-1 div.sk-estimator:hover label.sk-toggleable__label-arrow:before {color: black;}#sk-container-id-1 div.sk-toggleable__content {max-height: 0;max-width: 0;overflow: hidden;text-align: left;background-color: #f0f8ff;}#sk-container-id-1 div.sk-toggleable__content pre {margin: 0.2em;color: black;border-radius: 0.25em;background-color: #f0f8ff;}#sk-container-id-1 input.sk-toggleable__control:checked~div.sk-toggleable__content {max-height: 200px;max-width: 100%;overflow: auto;}#sk-container-id-1 input.sk-toggleable__control:checked~label.sk-toggleable__label-arrow:before {content: \"▾\";}#sk-container-id-1 div.sk-estimator input.sk-toggleable__control:checked~label.sk-toggleable__label {background-color: #d4ebff;}#sk-container-id-1 div.sk-label input.sk-toggleable__control:checked~label.sk-toggleable__label {background-color: #d4ebff;}#sk-container-id-1 input.sk-hidden--visually {border: 0;clip: rect(1px 1px 1px 1px);clip: rect(1px, 1px, 1px, 1px);height: 1px;margin: -1px;overflow: hidden;padding: 0;position: absolute;width: 1px;}#sk-container-id-1 div.sk-estimator {font-family: monospace;background-color: #f0f8ff;border: 1px dotted black;border-radius: 0.25em;box-sizing: border-box;margin-bottom: 0.5em;}#sk-container-id-1 div.sk-estimator:hover {background-color: #d4ebff;}#sk-container-id-1 div.sk-parallel-item::after {content: \"\";width: 100%;border-bottom: 1px solid gray;flex-grow: 1;}#sk-container-id-1 div.sk-label:hover label.sk-toggleable__label {background-color: #d4ebff;}#sk-container-id-1 div.sk-serial::before {content: \"\";position: absolute;border-left: 1px solid gray;box-sizing: border-box;top: 0;bottom: 0;left: 50%;z-index: 0;}#sk-container-id-1 div.sk-serial {display: flex;flex-direction: column;align-items: center;background-color: white;padding-right: 0.2em;padding-left: 0.2em;position: relative;}#sk-container-id-1 div.sk-item {position: relative;z-index: 1;}#sk-container-id-1 div.sk-parallel {display: flex;align-items: stretch;justify-content: center;background-color: white;position: relative;}#sk-container-id-1 div.sk-item::before, #sk-container-id-1 div.sk-parallel-item::before {content: \"\";position: absolute;border-left: 1px solid gray;box-sizing: border-box;top: 0;bottom: 0;left: 50%;z-index: -1;}#sk-container-id-1 div.sk-parallel-item {display: flex;flex-direction: column;z-index: 1;position: relative;background-color: white;}#sk-container-id-1 div.sk-parallel-item:first-child::after {align-self: flex-end;width: 50%;}#sk-container-id-1 div.sk-parallel-item:last-child::after {align-self: flex-start;width: 50%;}#sk-container-id-1 div.sk-parallel-item:only-child::after {width: 0;}#sk-container-id-1 div.sk-dashed-wrapped {border: 1px dashed gray;margin: 0 0.4em 0.5em 0.4em;box-sizing: border-box;padding-bottom: 0.4em;background-color: white;}#sk-container-id-1 div.sk-label label {font-family: monospace;font-weight: bold;display: inline-block;line-height: 1.2em;}#sk-container-id-1 div.sk-label-container {text-align: center;}#sk-container-id-1 div.sk-container {/* jupyter's `normalize.less` sets `[hidden] { display: none; }` but bootstrap.min.css set `[hidden] { display: none !important; }` so we also need the `!important` here to be able to override the default hidden behavior on the sphinx rendered scikit-learn.org. See: https://github.com/scikit-learn/scikit-learn/issues/21755 */display: inline-block !important;position: relative;}#sk-container-id-1 div.sk-text-repr-fallback {display: none;}</style><div id=\"sk-container-id-1\" class=\"sk-top-container\"><div class=\"sk-text-repr-fallback\"><pre>PCA(n_components=2)</pre><b>In a Jupyter environment, please rerun this cell to show the HTML representation or trust the notebook. <br />On GitHub, the HTML representation is unable to render, please try loading this page with nbviewer.org.</b></div><div class=\"sk-container\" hidden><div class=\"sk-item\"><div class=\"sk-estimator sk-toggleable\"><input class=\"sk-toggleable__control sk-hidden--visually\" id=\"sk-estimator-id-1\" type=\"checkbox\" checked><label for=\"sk-estimator-id-1\" class=\"sk-toggleable__label sk-toggleable__label-arrow\">PCA</label><div class=\"sk-toggleable__content\"><pre>PCA(n_components=2)</pre></div></div></div></div></div>"
      ],
      "text/plain": [
       "PCA(n_components=2)"
      ]
     },
     "execution_count": 6,
     "metadata": {},
     "output_type": "execute_result"
    }
   ],
   "source": [
    "# Fit a scikit learn PCA instance to training data\n",
    "pca = PCA(n_components=2)\n",
    "pca.fit(train_data)\n"
   ]
  },
  {
   "cell_type": "markdown",
   "metadata": {},
   "source": [
    "Now that the PCA model is fit to the training data, we can find a low dimesional representation of each class."
   ]
  },
  {
   "cell_type": "code",
   "execution_count": 15,
   "metadata": {},
   "outputs": [
    {
     "name": "stdout",
     "output_type": "stream",
     "text": [
      "(5421, 2)\n"
     ]
    }
   ],
   "source": [
    "# Transform train data from each class using fitted PCA instance\n",
    "\n",
    "train5_pca = pca.transform(train5)\n",
    "train6_pca = pca.transform(train6)\n",
    "train8_pca = pca.transform(train8)\n",
    "\n",
    "print(train5_pca.shape)\n",
    "\n"
   ]
  },
  {
   "cell_type": "markdown",
   "metadata": {},
   "source": [
    "## LDA\n",
    "We can also use Linear Disicriminant Analysis to reduce the dimensionality of the data.\n",
    "The LDA class in scikit-learn fits a covariance matrix and compute eigenvectors for you. LDA assume that you know about the classes, so you have to use the concatenated training set and targets/classes"
   ]
  },
  {
   "cell_type": "code",
   "execution_count": 26,
   "metadata": {},
   "outputs": [
    {
     "data": {
      "text/html": [
       "<style>#sk-container-id-2 {color: black;}#sk-container-id-2 pre{padding: 0;}#sk-container-id-2 div.sk-toggleable {background-color: white;}#sk-container-id-2 label.sk-toggleable__label {cursor: pointer;display: block;width: 100%;margin-bottom: 0;padding: 0.3em;box-sizing: border-box;text-align: center;}#sk-container-id-2 label.sk-toggleable__label-arrow:before {content: \"▸\";float: left;margin-right: 0.25em;color: #696969;}#sk-container-id-2 label.sk-toggleable__label-arrow:hover:before {color: black;}#sk-container-id-2 div.sk-estimator:hover label.sk-toggleable__label-arrow:before {color: black;}#sk-container-id-2 div.sk-toggleable__content {max-height: 0;max-width: 0;overflow: hidden;text-align: left;background-color: #f0f8ff;}#sk-container-id-2 div.sk-toggleable__content pre {margin: 0.2em;color: black;border-radius: 0.25em;background-color: #f0f8ff;}#sk-container-id-2 input.sk-toggleable__control:checked~div.sk-toggleable__content {max-height: 200px;max-width: 100%;overflow: auto;}#sk-container-id-2 input.sk-toggleable__control:checked~label.sk-toggleable__label-arrow:before {content: \"▾\";}#sk-container-id-2 div.sk-estimator input.sk-toggleable__control:checked~label.sk-toggleable__label {background-color: #d4ebff;}#sk-container-id-2 div.sk-label input.sk-toggleable__control:checked~label.sk-toggleable__label {background-color: #d4ebff;}#sk-container-id-2 input.sk-hidden--visually {border: 0;clip: rect(1px 1px 1px 1px);clip: rect(1px, 1px, 1px, 1px);height: 1px;margin: -1px;overflow: hidden;padding: 0;position: absolute;width: 1px;}#sk-container-id-2 div.sk-estimator {font-family: monospace;background-color: #f0f8ff;border: 1px dotted black;border-radius: 0.25em;box-sizing: border-box;margin-bottom: 0.5em;}#sk-container-id-2 div.sk-estimator:hover {background-color: #d4ebff;}#sk-container-id-2 div.sk-parallel-item::after {content: \"\";width: 100%;border-bottom: 1px solid gray;flex-grow: 1;}#sk-container-id-2 div.sk-label:hover label.sk-toggleable__label {background-color: #d4ebff;}#sk-container-id-2 div.sk-serial::before {content: \"\";position: absolute;border-left: 1px solid gray;box-sizing: border-box;top: 0;bottom: 0;left: 50%;z-index: 0;}#sk-container-id-2 div.sk-serial {display: flex;flex-direction: column;align-items: center;background-color: white;padding-right: 0.2em;padding-left: 0.2em;position: relative;}#sk-container-id-2 div.sk-item {position: relative;z-index: 1;}#sk-container-id-2 div.sk-parallel {display: flex;align-items: stretch;justify-content: center;background-color: white;position: relative;}#sk-container-id-2 div.sk-item::before, #sk-container-id-2 div.sk-parallel-item::before {content: \"\";position: absolute;border-left: 1px solid gray;box-sizing: border-box;top: 0;bottom: 0;left: 50%;z-index: -1;}#sk-container-id-2 div.sk-parallel-item {display: flex;flex-direction: column;z-index: 1;position: relative;background-color: white;}#sk-container-id-2 div.sk-parallel-item:first-child::after {align-self: flex-end;width: 50%;}#sk-container-id-2 div.sk-parallel-item:last-child::after {align-self: flex-start;width: 50%;}#sk-container-id-2 div.sk-parallel-item:only-child::after {width: 0;}#sk-container-id-2 div.sk-dashed-wrapped {border: 1px dashed gray;margin: 0 0.4em 0.5em 0.4em;box-sizing: border-box;padding-bottom: 0.4em;background-color: white;}#sk-container-id-2 div.sk-label label {font-family: monospace;font-weight: bold;display: inline-block;line-height: 1.2em;}#sk-container-id-2 div.sk-label-container {text-align: center;}#sk-container-id-2 div.sk-container {/* jupyter's `normalize.less` sets `[hidden] { display: none; }` but bootstrap.min.css set `[hidden] { display: none !important; }` so we also need the `!important` here to be able to override the default hidden behavior on the sphinx rendered scikit-learn.org. See: https://github.com/scikit-learn/scikit-learn/issues/21755 */display: inline-block !important;position: relative;}#sk-container-id-2 div.sk-text-repr-fallback {display: none;}</style><div id=\"sk-container-id-2\" class=\"sk-top-container\"><div class=\"sk-text-repr-fallback\"><pre>LinearDiscriminantAnalysis(n_components=2)</pre><b>In a Jupyter environment, please rerun this cell to show the HTML representation or trust the notebook. <br />On GitHub, the HTML representation is unable to render, please try loading this page with nbviewer.org.</b></div><div class=\"sk-container\" hidden><div class=\"sk-item\"><div class=\"sk-estimator sk-toggleable\"><input class=\"sk-toggleable__control sk-hidden--visually\" id=\"sk-estimator-id-2\" type=\"checkbox\" checked><label for=\"sk-estimator-id-2\" class=\"sk-toggleable__label sk-toggleable__label-arrow\">LinearDiscriminantAnalysis</label><div class=\"sk-toggleable__content\"><pre>LinearDiscriminantAnalysis(n_components=2)</pre></div></div></div></div></div>"
      ],
      "text/plain": [
       "LinearDiscriminantAnalysis(n_components=2)"
      ]
     },
     "execution_count": 26,
     "metadata": {},
     "output_type": "execute_result"
    }
   ],
   "source": [
    "# Fit a scikit learn LDA instance to training data\n",
    "lda = LDA(n_components=2)\n",
    "lda.fit(train_data,train_targets)"
   ]
  },
  {
   "cell_type": "code",
   "execution_count": 29,
   "metadata": {},
   "outputs": [],
   "source": [
    "# Transform train data from each class using fitted LDA instance\n",
    "train5_lda = lda.transform(train5)\n",
    "train6_lda = lda.transform(train6)\n",
    "train8_lda = lda.transform(train8)"
   ]
  },
  {
   "cell_type": "markdown",
   "metadata": {},
   "source": [
    "Let's try to plot the dimensionality reduced data and compare PCA to LDA. What do we see?"
   ]
  },
  {
   "cell_type": "code",
   "execution_count": 37,
   "metadata": {},
   "outputs": [
    {
     "data": {
      "image/png": "[encoded data removed]",
      "text/plain": [
       "<Figure size 640x480 with 1 Axes>"
      ]
     },
     "metadata": {},
     "output_type": "display_data"
    }
   ],
   "source": [
    "#Scatter plot of the dimensional-reduced data \n",
    "\n",
    "plt.scatter(train8_pca[:,0],train8_pca[:,1],c='#0000FF')\n",
    "plt.scatter(train8_lda[:,0],train8_lda[:,1],c='#FF0000')\n",
    "plt.show()"
   ]
  },
  {
   "cell_type": "markdown",
   "metadata": {},
   "source": [
    "In the above plot we see that LDA is seemingly better at seperating the tree classes,while the classes 5 and 8 are highly overlapped when using PCA."
   ]
  },
  {
   "cell_type": "markdown",
   "metadata": {},
   "source": [
    "# Part 2: Perform 3-class classification based on the generated 2-dimensional data. \n",
    "We need to find a model to classify the test data as either 5, 6, or 8.\n",
    "Here, we could use a Gaussian model for each class, and estimate the mean and covariance from the dimensionality reduced data."
   ]
  },
  {
   "cell_type": "markdown",
   "metadata": {},
   "source": [
    "## Estimate Gaussians using 2-dimensional data obtained from PCA"
   ]
  },
  {
   "cell_type": "code",
   "execution_count": 38,
   "metadata": {},
   "outputs": [],
   "source": [
    "#Estimate parameters for a bivariante Gaussian distribution.\n",
    "train5_mean_pca = np.mean(train5_pca, axis=0)\n",
    "train6_mean_pca = np.mean(train6_pca, axis=0)\n",
    "train8_mean_pca = np.mean(train8_pca, axis=0)\n",
    "\n",
    "train5_cov_pca = np.cov(train5_pca, rowvar=False)\n",
    "train6_cov_pca = np.cov(train6_pca, rowvar=False)\n",
    "train8_cov_pca = np.cov(train8_pca, rowvar=False)\n"
   ]
  },
  {
   "cell_type": "markdown",
   "metadata": {},
   "source": [
    "## Estimate Gaussians using 2-dimensional data obtained from LDA"
   ]
  },
  {
   "cell_type": "code",
   "execution_count": 39,
   "metadata": {},
   "outputs": [],
   "source": [
    "#Estimate parameters for a bivariante Gaussian distribution.\n",
    "train5_mean_lda = np.mean(train5_lda, axis=0)\n",
    "train6_mean_lda = np.mean(train6_lda, axis=0)\n",
    "train8_mean_lda = np.mean(train8_lda, axis=0)\n",
    "\n",
    "train5_cov_lda = np.cov(train5_lda, rowvar=False)\n",
    "train6_cov_lda = np.cov(train6_lda, rowvar=False)\n",
    "train8_cov_lda = np.cov(train8_lda, rowvar=False)"
   ]
  },
  {
   "cell_type": "markdown",
   "metadata": {},
   "source": [
    "## Classifying test data\n",
    "To classify the test data, we first transform it to 2-dimensions as well."
   ]
  },
  {
   "cell_type": "code",
   "execution_count": 40,
   "metadata": {},
   "outputs": [
    {
     "name": "stdout",
     "output_type": "stream",
     "text": [
      "(2824, 2)\n"
     ]
    }
   ],
   "source": [
    "# Transform test data using fitted PCA/LDA instance\n",
    "\n",
    "test_data_pca = pca.transform(test_data)\n",
    "print(test_data_pca.shape)\n",
    "\n",
    "test_data_lda = lda.transform(test_data)"
   ]
  },
  {
   "cell_type": "markdown",
   "metadata": {},
   "source": [
    "Now we compute priors, likelihoods and posteriors"
   ]
  },
  {
   "cell_type": "code",
   "execution_count": 41,
   "metadata": {},
   "outputs": [],
   "source": [
    "# Compute priors\n",
    "# Compute Likelihoods\n",
    "# Compute posteriors\n",
    "\n",
    "\n",
    "\n",
    "\n",
    "priors_5 = (train_targets==5).sum()/len(train_targets)\n",
    "priors_6 = (train_targets==6).sum()/len(train_targets)\n",
    "priors_8 = (train_targets==8).sum()/len(train_targets)\n",
    "\n",
    "\n",
    "#PCA\n",
    "likelihood_value_5_pca = norm.pdf(test_data_pca, train5_mean_pca, train5_cov_pca)\n",
    "likelihood_value_6_pca = norm.pdf(test_data_pca, train6_mean_pca, train6_cov_pca)\n",
    "likelihood_value_8_pca = norm.pdf(test_data_pca, train8_mean_pca, train8_cov_pca)\n",
    "\n",
    "\n",
    "posteriors_5_pca = likelihood_value_5_pca * priors_5\n",
    "posteriors_6_pca = likelihood_value_6_pca * priors_6\n",
    "posteriors_8_pca = likelihood_value_8_pca * priors_8\n",
    "\n",
    "posteriors_pca = [posteriors_5_pca, posteriors_6_pca, posteriors_8_pca]\n",
    "\n",
    "#LDA\n",
    "\n",
    "likelihood_value_5_lda = norm.pdf(test_data_lda, train5_mean_lda, train5_cov_lda)\n",
    "likelihood_value_6_lda = norm.pdf(test_data_lda, train6_mean_lda, train6_cov_lda)\n",
    "likelihood_value_8_lda = norm.pdf(test_data_lda, train8_mean_lda, train8_cov_lda)\n",
    "\n",
    "\n",
    "posteriors_5_lda = likelihood_value_5_lda * priors_5\n",
    "posteriors_6_lda = likelihood_value_6_lda * priors_6\n",
    "posteriors_8_lda = likelihood_value_8_lda * priors_8\n",
    "\n",
    "posteriors_lda = [posteriors_5_lda, posteriors_6_lda, posteriors_8_lda]\n",
    "\n",
    "\n"
   ]
  },
  {
   "cell_type": "markdown",
   "metadata": {},
   "source": [
    "We can now compute the classification accuracy for both PCA and LDA"
   ]
  },
  {
   "cell_type": "code",
   "execution_count": 42,
   "metadata": {},
   "outputs": [
    {
     "name": "stdout",
     "output_type": "stream",
     "text": [
      "The calculated pca accuracy is:  71.03399433427762 %\n",
      "The calculated lda accuracy is:  94.47592067988668 %\n"
     ]
    }
   ],
   "source": [
    "#Compute predictions\n",
    "\n",
    "#PCA\n",
    "predicted_class_pca = np.argmax(posteriors_pca, axis=0)\n",
    "\n",
    "predicted_class_pca[predicted_class_pca==0] = 5\n",
    "predicted_class_pca[predicted_class_pca==1] = 6\n",
    "predicted_class_pca[predicted_class_pca==2] = 8\n",
    "\n",
    "#LDA\n",
    "predicted_class_lda = np.argmax(posteriors_lda, axis=0)\n",
    "\n",
    "predicted_class_lda[predicted_class_lda==0] = 5\n",
    "predicted_class_lda[predicted_class_lda==1] = 6\n",
    "predicted_class_lda[predicted_class_lda==2] = 8\n",
    "\n",
    "\n",
    "\n",
    "#Compute accuracy\n",
    "\n",
    "#PCA\n",
    "accuracy_count_pca = np.where(predicted_class_pca == test_targets, 1, 0)\n",
    "accuracy_pca = (np.sum(accuracy_count_pca)/len(accuracy_count_pca)) * 100\n",
    "\n",
    "print(\"The calculated pca accuracy is: \", accuracy_pca,\"%\")\n",
    "\n",
    "\n",
    "#LDA\n",
    "accuracy_count_lda = np.where(predicted_class_lda == test_targets, 1, 0)\n",
    "accuracy_lda = (np.sum(accuracy_count_lda)/len(accuracy_count_lda)) * 100\n",
    "\n",
    "print(\"The calculated lda accuracy is: \", accuracy_lda,\"%\")\n"
   ]
  },
  {
   "cell_type": "markdown",
   "metadata": {},
   "source": [
    "What does the results show?"
   ]
  }
 ],
 "metadata": {
  "kernelspec": {
   "display_name": "Python 3",
   "language": "python",
   "name": "python3"
  },
  "language_info": {
   "codemirror_mode": {
    "name": "ipython",
    "version": 3
   },
   "file_extension": ".py",
   "mimetype": "text/x-python",
   "name": "python",
   "nbconvert_exporter": "python",
   "pygments_lexer": "ipython3",
   "version": "3.10.12"
  },
  "orig_nbformat": 4
 },
 "nbformat": 4,
 "nbformat_minor": 2
}
