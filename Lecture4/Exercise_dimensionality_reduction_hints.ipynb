{
 "cells": [
  {
   "cell_type": "code",
   "execution_count": 1,
   "metadata": {},
   "outputs": [],
   "source": [
    "import numpy as np\n",
    "from scipy.stats import multivariate_normal as norm\n",
    "import matplotlib.pyplot as plt\n",
    "from sklearn.decomposition import PCA\n",
    "from sklearn.discriminant_analysis import LinearDiscriminantAnalysis as LDA"
   ]
  },
  {
   "cell_type": "markdown",
   "metadata": {},
   "source": [
    "# Loading the training and test data"
   ]
  },
  {
   "cell_type": "markdown",
   "metadata": {},
   "source": [
    "## Train data"
   ]
  },
  {
   "cell_type": "code",
   "execution_count": 2,
   "metadata": {},
   "outputs": [],
   "source": [
    "train5 = np.loadtxt(\"mnist_all/train5.txt\")/255 # /255 for normalization\n",
    "train6 = np.loadtxt(\"mnist_all/train6.txt\")/255\n",
    "train8 = np.loadtxt(\"mnist_all/train8.txt\")/255"
   ]
  },
  {
   "cell_type": "code",
   "execution_count": 3,
   "metadata": {},
   "outputs": [],
   "source": [
    "# Define targets \n",
    "train5_target = 5*np.ones(len(train5))\n",
    "train6_target = 6*np.ones(len(train6))\n",
    "train8_target = 8*np.ones(len(train8))"
   ]
  },
  {
   "cell_type": "code",
   "execution_count": 4,
   "metadata": {},
   "outputs": [],
   "source": [
    "# Combine data\n",
    "train_data = np.concatenate([train5, train6, train8])\n",
    "train_targets = np.concatenate([train5_target, train6_target, train8_target])"
   ]
  },
  {
   "cell_type": "markdown",
   "metadata": {},
   "source": [
    "## Test data"
   ]
  },
  {
   "cell_type": "code",
   "execution_count": 5,
   "metadata": {},
   "outputs": [],
   "source": [
    "test5 = np.loadtxt(\"mnist_all/test5.txt\")/255\n",
    "test6 = np.loadtxt(\"mnist_all/test6.txt\")/255\n",
    "test8 = np.loadtxt(\"mnist_all/test8.txt\")/255\n",
    "\n",
    "# Define targets \n",
    "test5_target = 5*np.ones(len(test5))\n",
    "test6_target = 6*np.ones(len(test6))\n",
    "test8_target = 8*np.ones(len(test8))\n",
    "\n",
    "# Combine\n",
    "test_data = np.concatenate([test5, test6, test8])\n",
    "test_targets = np.concatenate([test5_target, test6_target, test8_target])\n",
    "\n",
    "# Class names\n",
    "classes = np.array([5,6,8])"
   ]
  },
  {
   "cell_type": "markdown",
   "metadata": {},
   "source": [
    "# Part 1: Reduce dimension to 2\n",
    "Here, we wish to reduce the data dimensionality from 784 to 2 using either PCA or LDA.\n",
    "For this you can use scikit-learn."
   ]
  },
  {
   "cell_type": "markdown",
   "metadata": {},
   "source": [
    "## PCA"
   ]
  },
  {
   "cell_type": "markdown",
   "metadata": {},
   "source": [
    "The PCA class in scikit-learn fits a covariance matrix and compute eigenvectors for you. \n",
    "PCA doesn't assume any knowledge about the classes, so you have to use the concatenated training set."
   ]
  },
  {
   "cell_type": "code",
   "execution_count": 6,
   "metadata": {},
   "outputs": [],
   "source": [
    "# Fit a scikit learn PCA instance to training data"
   ]
  },
  {
   "cell_type": "markdown",
   "metadata": {},
   "source": [
    "Now that the PCA model is fit to the training data, we can find a low dimesional representation of each class."
   ]
  },
  {
   "cell_type": "code",
   "execution_count": 7,
   "metadata": {},
   "outputs": [],
   "source": [
    "# Transform train data from each class using fitted PCA instance"
   ]
  },
  {
   "cell_type": "markdown",
   "metadata": {},
   "source": [
    "## LDA\n",
    "We can also use Linear Disicriminant Analysis to reduce the dimensionality of the data.\n",
    "The LDA class in scikit-learn fits a covariance matrix and compute eigenvectors for you. LDA assume that you know about the classes, so you have to use the concatenated training set and targets/classes"
   ]
  },
  {
   "cell_type": "code",
   "execution_count": 8,
   "metadata": {},
   "outputs": [],
   "source": [
    "# Fit a scikit learn LDA instance to training data"
   ]
  },
  {
   "cell_type": "code",
   "execution_count": 9,
   "metadata": {},
   "outputs": [],
   "source": [
    "# Transform train data from each class using fitted LDA instance"
   ]
  },
  {
   "cell_type": "markdown",
   "metadata": {},
   "source": [
    "Let's try to plot the dimensionality reduced data and compare PCA to LDA. What do we see?"
   ]
  },
  {
   "cell_type": "code",
   "execution_count": 10,
   "metadata": {},
   "outputs": [],
   "source": [
    "#Scatter plot of the dimensional-reduced data \n"
   ]
  },
  {
   "cell_type": "markdown",
   "metadata": {},
   "source": [
    "In the above plot we see that LDA is seemingly better at seperating the tree classes,while the classes 5 and 8 are highly overlapped when using PCA."
   ]
  },
  {
   "cell_type": "markdown",
   "metadata": {},
   "source": [
    "# Part 2: Perform 3-class classification based on the generated 2-dimensional data. \n",
    "We need to find a model to classify the test data as either 5, 6, or 8.\n",
    "Here, we could use a Gaussian model for each class, and estimate the mean and covariance from the dimensionality reduced data."
   ]
  },
  {
   "cell_type": "markdown",
   "metadata": {},
   "source": [
    "## Estimate Gaussians using 2-dimensional data obtained from PCA"
   ]
  },
  {
   "cell_type": "code",
   "execution_count": 11,
   "metadata": {},
   "outputs": [],
   "source": [
    "#Estimate parameters for a bivariante Gaussian distribution.\n"
   ]
  },
  {
   "cell_type": "markdown",
   "metadata": {},
   "source": [
    "## Estimate Gaussians using 2-dimensional data obtained from LDA"
   ]
  },
  {
   "cell_type": "code",
   "execution_count": 12,
   "metadata": {},
   "outputs": [],
   "source": [
    "#Estimate parameters for a bivariante Gaussian distribution.\n"
   ]
  },
  {
   "cell_type": "markdown",
   "metadata": {},
   "source": [
    "## Classifying test data\n",
    "To classify the test data, we first transform it to 2-dimensions as well."
   ]
  },
  {
   "cell_type": "code",
   "execution_count": 13,
   "metadata": {},
   "outputs": [],
   "source": [
    "# Transform test data using fitted PCA/LDA instance"
   ]
  },
  {
   "cell_type": "markdown",
   "metadata": {},
   "source": [
    "Now we compute priors, likelihoods and posteriors"
   ]
  },
  {
   "cell_type": "code",
   "execution_count": 14,
   "metadata": {},
   "outputs": [],
   "source": [
    "# Compute priors\n",
    "# Compute Likelihoods\n",
    "# Compute posteriors"
   ]
  },
  {
   "cell_type": "markdown",
   "metadata": {},
   "source": [
    "We can now compute the classification accuracy for both PCA and LDA"
   ]
  },
  {
   "cell_type": "code",
   "execution_count": 15,
   "metadata": {},
   "outputs": [],
   "source": [
    "#Compute predictions\n",
    "\n",
    "#Compute accuracy\n"
   ]
  },
  {
   "cell_type": "markdown",
   "metadata": {},
   "source": [
    "What does the results show?"
   ]
  }
 ],
 "metadata": {
  "kernelspec": {
   "display_name": "Python 3",
   "language": "python",
   "name": "python3"
  },
  "language_info": {
   "codemirror_mode": {
    "name": "ipython",
    "version": 3
   },
   "file_extension": ".py",
   "mimetype": "text/x-python",
   "name": "python",
   "nbconvert_exporter": "python",
   "pygments_lexer": "ipython3",
   "version": "3.11.5"
  },
  "orig_nbformat": 4
 },
 "nbformat": 4,
 "nbformat_minor": 2
}
